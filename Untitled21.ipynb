{
  "cells": [
    {
      "cell_type": "code",
      "execution_count": 52,
      "metadata": {
        "id": "UsLarmMXKQO-"
      },
      "outputs": [],
      "source": [
        "# Basics\n",
        "import pandas as pd; import os\n",
        "import csv; import numpy as np\n",
        "import re; import warnings\n",
        "import pickle\n",
        "warnings.filterwarnings('ignore')\n",
        "# training data\n",
        "okgo = pd.read_csv('OKGO.csv', delimiter=\";\", skiprows=2, encoding='latin-1', engine='python') # read in the data\n",
        "trump = pd.read_csv('trump.csv', delimiter=\",\", skiprows=2, encoding='utf-8', engine='python')\n",
        "swift = pd.read_csv('TaylorSwift.csv', delimiter=\",\", skiprows=2, nrows=180, encoding='utf-8', engine='python')\n",
        "royal = pd.read_csv('RoyalWedding.csv', delimiter=\",\", skiprows=2, nrows=61, encoding='utf-8', engine='python')\n",
        "paul = pd.read_csv('LoganPaul.csv', delimiter=\",\", skiprows=2, nrows=200, encoding='utf-8', engine='python')"
      ]
    },
    {
      "cell_type": "code",
      "execution_count": 53,
      "metadata": {
        "id": "YKk6uUyuKQUt"
      },
      "outputs": [],
      "source": [
        "blogs = pd.read_csv('Kagel.csv', delimiter=\",\", skiprows=2, encoding='latin-1', engine='python') # read in the data\n",
        "tweets = pd.read_csv('twitter.csv', delimiter=\",\", skiprows=2, encoding='latin-1', engine='python') # read in the data"
      ]
    },
    {
      "cell_type": "code",
      "execution_count": 54,
      "metadata": {
        "colab": {
          "base_uri": "https://localhost:8080/",
          "height": 206
        },
        "id": "tYCyT6u_LtS_",
        "outputId": "7865c9d5-389c-4d65-ad06-71d5e27aff9e"
      },
      "outputs": [
        {
          "data": {
            "text/html": [
              "<div>\n",
              "<style scoped>\n",
              "    .dataframe tbody tr th:only-of-type {\n",
              "        vertical-align: middle;\n",
              "    }\n",
              "\n",
              "    .dataframe tbody tr th {\n",
              "        vertical-align: top;\n",
              "    }\n",
              "\n",
              "    .dataframe thead th {\n",
              "        text-align: right;\n",
              "    }\n",
              "</style>\n",
              "<table border=\"1\" class=\"dataframe\">\n",
              "  <thead>\n",
              "    <tr style=\"text-align: right;\">\n",
              "      <th></th>\n",
              "      <th>Sentiment</th>\n",
              "      <th>TweetText</th>\n",
              "    </tr>\n",
              "  </thead>\n",
              "  <tbody>\n",
              "    <tr>\n",
              "      <th>0</th>\n",
              "      <td>positive</td>\n",
              "      <td>Now all @Apple has to do is get swype on the i...</td>\n",
              "    </tr>\n",
              "    <tr>\n",
              "      <th>1</th>\n",
              "      <td>positive</td>\n",
              "      <td>@Apple will be adding more carrier support to ...</td>\n",
              "    </tr>\n",
              "    <tr>\n",
              "      <th>2</th>\n",
              "      <td>positive</td>\n",
              "      <td>Hilarious @youtube video - guy does a duet wit...</td>\n",
              "    </tr>\n",
              "    <tr>\n",
              "      <th>3</th>\n",
              "      <td>positive</td>\n",
              "      <td>@RIM you made it too easy for me to switch to ...</td>\n",
              "    </tr>\n",
              "    <tr>\n",
              "      <th>4</th>\n",
              "      <td>positive</td>\n",
              "      <td>I just realized that the reason I got into twi...</td>\n",
              "    </tr>\n",
              "  </tbody>\n",
              "</table>\n",
              "</div>"
            ],
            "text/plain": [
              "  Sentiment                                          TweetText\n",
              "0  positive  Now all @Apple has to do is get swype on the i...\n",
              "1  positive  @Apple will be adding more carrier support to ...\n",
              "2  positive  Hilarious @youtube video - guy does a duet wit...\n",
              "3  positive  @RIM you made it too easy for me to switch to ...\n",
              "4  positive  I just realized that the reason I got into twi..."
            ]
          },
          "execution_count": 54,
          "metadata": {},
          "output_type": "execute_result"
        }
      ],
      "source": [
        "# clean dataframes\n",
        "tweets = tweets.drop(['Topic', 'TweetId', \"TweetDate\"], axis = 1).dropna()\n",
        "tweets.head()"
      ]
    },
    {
      "cell_type": "code",
      "execution_count": 55,
      "metadata": {
        "id": "kr3h_gFNKQij"
      },
      "outputs": [],
      "source": [
        "def fix_cols(DF):\n",
        "    DF = DF.iloc[:,:2]\n",
        "    DF.columns = [\"label\", \"comment\"]\n",
        "    return DF"
      ]
    },
    {
      "cell_type": "code",
      "execution_count": 56,
      "metadata": {
        "colab": {
          "base_uri": "https://localhost:8080/",
          "height": 206
        },
        "id": "IkfjLmbRKQlR",
        "outputId": "a4cfef91-dfca-4af6-be8b-a95b26f3788f"
      },
      "outputs": [
        {
          "data": {
            "text/html": [
              "<div>\n",
              "<style scoped>\n",
              "    .dataframe tbody tr th:only-of-type {\n",
              "        vertical-align: middle;\n",
              "    }\n",
              "\n",
              "    .dataframe tbody tr th {\n",
              "        vertical-align: top;\n",
              "    }\n",
              "\n",
              "    .dataframe thead th {\n",
              "        text-align: right;\n",
              "    }\n",
              "</style>\n",
              "<table border=\"1\" class=\"dataframe\">\n",
              "  <thead>\n",
              "    <tr style=\"text-align: right;\">\n",
              "      <th></th>\n",
              "      <th>label</th>\n",
              "      <th>comment</th>\n",
              "    </tr>\n",
              "  </thead>\n",
              "  <tbody>\n",
              "    <tr>\n",
              "      <th>0</th>\n",
              "      <td>-1.0</td>\n",
              "      <td>Everyone knows brand's papers from.\\rBut -No o...</td>\n",
              "    </tr>\n",
              "    <tr>\n",
              "      <th>1</th>\n",
              "      <td>0.0</td>\n",
              "      <td>ÒYour paper cut balance is: \\r-£25279102771Ó</td>\n",
              "    </tr>\n",
              "    <tr>\n",
              "      <th>2</th>\n",
              "      <td>1.0</td>\n",
              "      <td>OH SHIT WHEN I SAW THIS ON MY FRONT PAGE.........</td>\n",
              "    </tr>\n",
              "    <tr>\n",
              "      <th>3</th>\n",
              "      <td>1.0</td>\n",
              "      <td>Blowing my mind yet again</td>\n",
              "    </tr>\n",
              "    <tr>\n",
              "      <th>4</th>\n",
              "      <td>0.0</td>\n",
              "      <td>Should have gone with Dunder Mifflin</td>\n",
              "    </tr>\n",
              "  </tbody>\n",
              "</table>\n",
              "</div>"
            ],
            "text/plain": [
              "   label                                            comment\n",
              "0   -1.0  Everyone knows brand's papers from.\\rBut -No o...\n",
              "1    0.0       ÒYour paper cut balance is: \\r-£25279102771Ó\n",
              "2    1.0  OH SHIT WHEN I SAW THIS ON MY FRONT PAGE.........\n",
              "3    1.0                          Blowing my mind yet again\n",
              "4    0.0               Should have gone with Dunder Mifflin"
            ]
          },
          "execution_count": 56,
          "metadata": {},
          "output_type": "execute_result"
        }
      ],
      "source": [
        "okgo = fix_cols(okgo)\n",
        "trump = fix_cols(trump)\n",
        "swift = fix_cols(swift)\n",
        "royal = fix_cols(royal)\n",
        "paul = fix_cols(paul)\n",
        "tweets = fix_cols(tweets)\n",
        "\n",
        "\n",
        "okgo.head()"
      ]
    },
    {
      "cell_type": "code",
      "execution_count": 57,
      "metadata": {
        "id": "W5Ur-79eKQnu"
      },
      "outputs": [],
      "source": [
        "tweets.label = tweets.label.replace({'positive': '1.0', 'negative':'-1.0', 'neutral': '0.0', 'irrelevant': '0.0'}, regex=True)\n",
        "tweets['label'] = pd.to_numeric(tweets['label'], errors='coerce')"
      ]
    },
    {
      "cell_type": "code",
      "execution_count": 58,
      "metadata": {
        "colab": {
          "base_uri": "https://localhost:8080/",
          "height": 206
        },
        "id": "sofhKWGMKQqH",
        "outputId": "eb75082e-cc6c-4e45-81c7-5977d6b79d75"
      },
      "outputs": [
        {
          "data": {
            "text/html": [
              "<div>\n",
              "<style scoped>\n",
              "    .dataframe tbody tr th:only-of-type {\n",
              "        vertical-align: middle;\n",
              "    }\n",
              "\n",
              "    .dataframe tbody tr th {\n",
              "        vertical-align: top;\n",
              "    }\n",
              "\n",
              "    .dataframe thead th {\n",
              "        text-align: right;\n",
              "    }\n",
              "</style>\n",
              "<table border=\"1\" class=\"dataframe\">\n",
              "  <thead>\n",
              "    <tr style=\"text-align: right;\">\n",
              "      <th></th>\n",
              "      <th>label</th>\n",
              "      <th>comment</th>\n",
              "    </tr>\n",
              "  </thead>\n",
              "  <tbody>\n",
              "    <tr>\n",
              "      <th>0</th>\n",
              "      <td>1.0</td>\n",
              "      <td>Now all @Apple has to do is get swype on the i...</td>\n",
              "    </tr>\n",
              "    <tr>\n",
              "      <th>1</th>\n",
              "      <td>1.0</td>\n",
              "      <td>@Apple will be adding more carrier support to ...</td>\n",
              "    </tr>\n",
              "    <tr>\n",
              "      <th>2</th>\n",
              "      <td>1.0</td>\n",
              "      <td>Hilarious @youtube video - guy does a duet wit...</td>\n",
              "    </tr>\n",
              "    <tr>\n",
              "      <th>3</th>\n",
              "      <td>1.0</td>\n",
              "      <td>@RIM you made it too easy for me to switch to ...</td>\n",
              "    </tr>\n",
              "    <tr>\n",
              "      <th>4</th>\n",
              "      <td>1.0</td>\n",
              "      <td>I just realized that the reason I got into twi...</td>\n",
              "    </tr>\n",
              "  </tbody>\n",
              "</table>\n",
              "</div>"
            ],
            "text/plain": [
              "   label                                            comment\n",
              "0    1.0  Now all @Apple has to do is get swype on the i...\n",
              "1    1.0  @Apple will be adding more carrier support to ...\n",
              "2    1.0  Hilarious @youtube video - guy does a duet wit...\n",
              "3    1.0  @RIM you made it too easy for me to switch to ...\n",
              "4    1.0  I just realized that the reason I got into twi..."
            ]
          },
          "execution_count": 58,
          "metadata": {},
          "output_type": "execute_result"
        }
      ],
      "source": [
        "tweets = fix_cols(tweets)\n",
        "blogs = fix_cols(blogs)\n",
        "\n",
        "tweets.head()"
      ]
    },
    {
      "cell_type": "code",
      "execution_count": 59,
      "metadata": {
        "colab": {
          "base_uri": "https://localhost:8080/",
          "height": 206
        },
        "id": "uLdgNEuLMqli",
        "outputId": "b0cdb751-10ae-4e96-8221-ee9e72284c8d"
      },
      "outputs": [
        {
          "data": {
            "text/html": [
              "<div>\n",
              "<style scoped>\n",
              "    .dataframe tbody tr th:only-of-type {\n",
              "        vertical-align: middle;\n",
              "    }\n",
              "\n",
              "    .dataframe tbody tr th {\n",
              "        vertical-align: top;\n",
              "    }\n",
              "\n",
              "    .dataframe thead th {\n",
              "        text-align: right;\n",
              "    }\n",
              "</style>\n",
              "<table border=\"1\" class=\"dataframe\">\n",
              "  <thead>\n",
              "    <tr style=\"text-align: right;\">\n",
              "      <th></th>\n",
              "      <th>label</th>\n",
              "      <th>comment</th>\n",
              "    </tr>\n",
              "  </thead>\n",
              "  <tbody>\n",
              "    <tr>\n",
              "      <th>0</th>\n",
              "      <td>-1.0</td>\n",
              "      <td>Everyone knows brand's papers from.\\rBut -No o...</td>\n",
              "    </tr>\n",
              "    <tr>\n",
              "      <th>1</th>\n",
              "      <td>0.0</td>\n",
              "      <td>ÒYour paper cut balance is: \\r-£25279102771Ó</td>\n",
              "    </tr>\n",
              "    <tr>\n",
              "      <th>2</th>\n",
              "      <td>1.0</td>\n",
              "      <td>OH SHIT WHEN I SAW THIS ON MY FRONT PAGE.........</td>\n",
              "    </tr>\n",
              "    <tr>\n",
              "      <th>3</th>\n",
              "      <td>1.0</td>\n",
              "      <td>Blowing my mind yet again</td>\n",
              "    </tr>\n",
              "    <tr>\n",
              "      <th>4</th>\n",
              "      <td>0.0</td>\n",
              "      <td>Should have gone with Dunder Mifflin</td>\n",
              "    </tr>\n",
              "  </tbody>\n",
              "</table>\n",
              "</div>"
            ],
            "text/plain": [
              "   label                                            comment\n",
              "0   -1.0  Everyone knows brand's papers from.\\rBut -No o...\n",
              "1    0.0       ÒYour paper cut balance is: \\r-£25279102771Ó\n",
              "2    1.0  OH SHIT WHEN I SAW THIS ON MY FRONT PAGE.........\n",
              "3    1.0                          Blowing my mind yet again\n",
              "4    0.0               Should have gone with Dunder Mifflin"
            ]
          },
          "execution_count": 59,
          "metadata": {},
          "output_type": "execute_result"
        }
      ],
      "source": [
        "yt_comments = pd.concat([okgo, trump, swift, royal, paul], ignore_index=True)\n",
        "yt_comments.head()"
      ]
    },
    {
      "cell_type": "code",
      "execution_count": 60,
      "metadata": {
        "colab": {
          "base_uri": "https://localhost:8080/",
          "height": 206
        },
        "id": "1nukyYs_MqoU",
        "outputId": "d7d786db-8b73-49f3-8c64-5a72f35b33c4"
      },
      "outputs": [
        {
          "data": {
            "text/html": [
              "<div>\n",
              "<style scoped>\n",
              "    .dataframe tbody tr th:only-of-type {\n",
              "        vertical-align: middle;\n",
              "    }\n",
              "\n",
              "    .dataframe tbody tr th {\n",
              "        vertical-align: top;\n",
              "    }\n",
              "\n",
              "    .dataframe thead th {\n",
              "        text-align: right;\n",
              "    }\n",
              "</style>\n",
              "<table border=\"1\" class=\"dataframe\">\n",
              "  <thead>\n",
              "    <tr style=\"text-align: right;\">\n",
              "      <th></th>\n",
              "      <th>label</th>\n",
              "      <th>comment</th>\n",
              "    </tr>\n",
              "  </thead>\n",
              "  <tbody>\n",
              "    <tr>\n",
              "      <th>0</th>\n",
              "      <td>1.0</td>\n",
              "      <td>i liked the Da Vinci Code a lot</td>\n",
              "    </tr>\n",
              "    <tr>\n",
              "      <th>1</th>\n",
              "      <td>1.0</td>\n",
              "      <td>i liked the Da Vinci Code a lot</td>\n",
              "    </tr>\n",
              "    <tr>\n",
              "      <th>2</th>\n",
              "      <td>1.0</td>\n",
              "      <td>I liked the Da Vinci Code but it ultimatly di...</td>\n",
              "    </tr>\n",
              "    <tr>\n",
              "      <th>3</th>\n",
              "      <td>1.0</td>\n",
              "      <td>that's not even an exaggeration ) and at midn...</td>\n",
              "    </tr>\n",
              "    <tr>\n",
              "      <th>4</th>\n",
              "      <td>1.0</td>\n",
              "      <td>I loved the Da Vinci Code but now I want some...</td>\n",
              "    </tr>\n",
              "  </tbody>\n",
              "</table>\n",
              "</div>"
            ],
            "text/plain": [
              "   label                                            comment\n",
              "0    1.0                    i liked the Da Vinci Code a lot\n",
              "1    1.0                    i liked the Da Vinci Code a lot\n",
              "2    1.0   I liked the Da Vinci Code but it ultimatly di...\n",
              "3    1.0   that's not even an exaggeration ) and at midn...\n",
              "4    1.0   I loved the Da Vinci Code but now I want some..."
            ]
          },
          "execution_count": 60,
          "metadata": {},
          "output_type": "execute_result"
        }
      ],
      "source": [
        "non_yt_comments = pd.concat([blogs, tweets], ignore_index=True)\n",
        "non_yt_comments.head()"
      ]
    },
    {
      "cell_type": "code",
      "execution_count": 61,
      "metadata": {
        "colab": {
          "base_uri": "https://localhost:8080/",
          "height": 206
        },
        "id": "uJxBTXVzMqrC",
        "outputId": "655da4d1-97a9-4666-b619-83c5e5141dbd"
      },
      "outputs": [
        {
          "data": {
            "text/html": [
              "<div>\n",
              "<style scoped>\n",
              "    .dataframe tbody tr th:only-of-type {\n",
              "        vertical-align: middle;\n",
              "    }\n",
              "\n",
              "    .dataframe tbody tr th {\n",
              "        vertical-align: top;\n",
              "    }\n",
              "\n",
              "    .dataframe thead th {\n",
              "        text-align: right;\n",
              "    }\n",
              "</style>\n",
              "<table border=\"1\" class=\"dataframe\">\n",
              "  <thead>\n",
              "    <tr style=\"text-align: right;\">\n",
              "      <th></th>\n",
              "      <th>label</th>\n",
              "      <th>comment</th>\n",
              "    </tr>\n",
              "  </thead>\n",
              "  <tbody>\n",
              "    <tr>\n",
              "      <th>0</th>\n",
              "      <td>-1.0</td>\n",
              "      <td>Everyone knows brand's papers from.\\rBut -No o...</td>\n",
              "    </tr>\n",
              "    <tr>\n",
              "      <th>1</th>\n",
              "      <td>0.0</td>\n",
              "      <td>ÒYour paper cut balance is: \\r-£25279102771Ó</td>\n",
              "    </tr>\n",
              "    <tr>\n",
              "      <th>2</th>\n",
              "      <td>1.0</td>\n",
              "      <td>OH SHIT WHEN I SAW THIS ON MY FRONT PAGE.........</td>\n",
              "    </tr>\n",
              "    <tr>\n",
              "      <th>3</th>\n",
              "      <td>1.0</td>\n",
              "      <td>Blowing my mind yet again</td>\n",
              "    </tr>\n",
              "    <tr>\n",
              "      <th>4</th>\n",
              "      <td>0.0</td>\n",
              "      <td>Should have gone with Dunder Mifflin</td>\n",
              "    </tr>\n",
              "  </tbody>\n",
              "</table>\n",
              "</div>"
            ],
            "text/plain": [
              "   label                                            comment\n",
              "0   -1.0  Everyone knows brand's papers from.\\rBut -No o...\n",
              "1    0.0       ÒYour paper cut balance is: \\r-£25279102771Ó\n",
              "2    1.0  OH SHIT WHEN I SAW THIS ON MY FRONT PAGE.........\n",
              "3    1.0                          Blowing my mind yet again\n",
              "4    0.0               Should have gone with Dunder Mifflin"
            ]
          },
          "execution_count": 61,
          "metadata": {},
          "output_type": "execute_result"
        }
      ],
      "source": [
        "comments = pd.concat([yt_comments, non_yt_comments], ignore_index=True)\n",
        "comments.head()"
      ]
    },
    {
      "cell_type": "code",
      "execution_count": 62,
      "metadata": {
        "id": "N1MdOpJFMqth"
      },
      "outputs": [],
      "source": [
        "def convert_to_string(DF):\n",
        "    DF[\"comment\"]= DF[\"comment\"].astype(str)"
      ]
    },
    {
      "cell_type": "code",
      "execution_count": 63,
      "metadata": {
        "id": "GIoouVpbMqwL"
      },
      "outputs": [],
      "source": [
        "convert_to_string(comments)"
      ]
    },
    {
      "cell_type": "code",
      "execution_count": 64,
      "metadata": {
        "id": "OkhCk_8AM7fa"
      },
      "outputs": [],
      "source": [
        "def cleanerFn(b):\n",
        "    # keeps only words with alphabetic characters in comments\n",
        "    for row in range(len(b)):\n",
        "        line = b.loc[row, \"comment\"]\n",
        "        b.loc[row,\"comment\"] = re.sub(\"[^a-zA-Z]\", \" \", line)"
      ]
    },
    {
      "cell_type": "code",
      "execution_count": 65,
      "metadata": {
        "colab": {
          "base_uri": "https://localhost:8080/",
          "height": 206
        },
        "id": "LpRDXfV3M7iW",
        "outputId": "d3b8052a-a7fe-4ba0-fae5-11f8f62f3ea1"
      },
      "outputs": [
        {
          "data": {
            "text/html": [
              "<div>\n",
              "<style scoped>\n",
              "    .dataframe tbody tr th:only-of-type {\n",
              "        vertical-align: middle;\n",
              "    }\n",
              "\n",
              "    .dataframe tbody tr th {\n",
              "        vertical-align: top;\n",
              "    }\n",
              "\n",
              "    .dataframe thead th {\n",
              "        text-align: right;\n",
              "    }\n",
              "</style>\n",
              "<table border=\"1\" class=\"dataframe\">\n",
              "  <thead>\n",
              "    <tr style=\"text-align: right;\">\n",
              "      <th></th>\n",
              "      <th>label</th>\n",
              "      <th>comment</th>\n",
              "    </tr>\n",
              "  </thead>\n",
              "  <tbody>\n",
              "    <tr>\n",
              "      <th>0</th>\n",
              "      <td>-1.0</td>\n",
              "      <td>Everyone knows brand s papers from  But  No on...</td>\n",
              "    </tr>\n",
              "    <tr>\n",
              "      <th>1</th>\n",
              "      <td>0.0</td>\n",
              "      <td>Your paper cut balance is</td>\n",
              "    </tr>\n",
              "    <tr>\n",
              "      <th>2</th>\n",
              "      <td>1.0</td>\n",
              "      <td>OH SHIT WHEN I SAW THIS ON MY FRONT PAGE      ...</td>\n",
              "    </tr>\n",
              "    <tr>\n",
              "      <th>3</th>\n",
              "      <td>1.0</td>\n",
              "      <td>Blowing my mind yet again</td>\n",
              "    </tr>\n",
              "    <tr>\n",
              "      <th>4</th>\n",
              "      <td>0.0</td>\n",
              "      <td>Should have gone with Dunder Mifflin</td>\n",
              "    </tr>\n",
              "  </tbody>\n",
              "</table>\n",
              "</div>"
            ],
            "text/plain": [
              "   label                                            comment\n",
              "0   -1.0  Everyone knows brand s papers from  But  No on...\n",
              "1    0.0         Your paper cut balance is                 \n",
              "2    1.0  OH SHIT WHEN I SAW THIS ON MY FRONT PAGE      ...\n",
              "3    1.0                          Blowing my mind yet again\n",
              "4    0.0               Should have gone with Dunder Mifflin"
            ]
          },
          "execution_count": 65,
          "metadata": {},
          "output_type": "execute_result"
        }
      ],
      "source": [
        "cleanerFn(comments)\n",
        "comments.head()"
      ]
    },
    {
      "cell_type": "code",
      "execution_count": 66,
      "metadata": {
        "id": "iGwPH4pWM7kS"
      },
      "outputs": [],
      "source": [
        "import nltk\n",
        "from nltk.tokenize import sent_tokenize, word_tokenize\n",
        "from nltk.corpus import stopwords\n",
        "from nltk.stem.porter import *\n",
        "from nltk.stem import PorterStemmer\n",
        "from sklearn.feature_extraction.text import TfidfVectorizer\n",
        "from sklearn.feature_extraction.text import CountVectorizer"
      ]
    },
    {
      "cell_type": "code",
      "execution_count": 67,
      "metadata": {
        "colab": {
          "base_uri": "https://localhost:8080/"
        },
        "id": "fbEFLHGYNVpo",
        "outputId": "913a8940-b7eb-4d2f-fd01-b97fae8af5b4"
      },
      "outputs": [
        {
          "name": "stderr",
          "output_type": "stream",
          "text": [
            "<frozen runpy>:128: RuntimeWarning: 'nltk.downloader' found in sys.modules after import of package 'nltk', but prior to execution of 'nltk.downloader'; this may result in unpredictable behaviour\n",
            "[nltk_data] Downloading package stopwords to\n",
            "[nltk_data]     C:\\Users\\achal\\AppData\\Roaming\\nltk_data...\n",
            "[nltk_data]   Package stopwords is already up-to-date!\n"
          ]
        }
      ],
      "source": [
        "!python -m nltk.downloader stopwords"
      ]
    },
    {
      "cell_type": "code",
      "execution_count": 68,
      "metadata": {
        "id": "pnR6yzJNM7mo"
      },
      "outputs": [],
      "source": [
        "sw = stopwords.words('english')\n",
        "ps = PorterStemmer()\n",
        "lemmatizer = nltk.stem.WordNetLemmatizer()"
      ]
    },
    {
      "cell_type": "code",
      "execution_count": 69,
      "metadata": {
        "id": "nABClgaJM7o9"
      },
      "outputs": [],
      "source": [
        "def nlpFunction(DF):\n",
        "    DF['com_token'] = DF['comment'].str.lower().str.split()\n",
        "    DF['com_remv'] = DF['com_token'].apply(lambda x: [y for y in x if y not in sw])\n",
        "    DF[\"com_lemma\"] = DF['com_remv'].apply(lambda x : [lemmatizer.lemmatize(y) for y in x]) # lemmatization\n",
        "    DF['com_stem'] = DF['com_lemma'].apply(lambda x : [ps.stem(y) for y in x]) # stemming\n",
        "    DF[\"com_tok_str\"] = DF[\"com_stem\"].apply(', '.join)\n",
        "    DF[\"com_full\"] = DF[\"com_remv\"].apply(' '.join)\n",
        "    return DF"
      ]
    },
    {
      "cell_type": "code",
      "execution_count": 70,
      "metadata": {
        "colab": {
          "base_uri": "https://localhost:8080/"
        },
        "id": "z9CSadstNkWA",
        "outputId": "8331e02c-2b69-40ab-8c24-c47e9b2dc947"
      },
      "outputs": [
        {
          "name": "stdout",
          "output_type": "stream",
          "text": [
            "Requirement already satisfied: nltk in c:\\users\\achal\\appdata\\local\\programs\\python\\python312\\lib\\site-packages (3.8.1)\n",
            "Requirement already satisfied: click in c:\\users\\achal\\appdata\\local\\programs\\python\\python312\\lib\\site-packages (from nltk) (8.1.7)\n",
            "Requirement already satisfied: joblib in c:\\users\\achal\\appdata\\local\\programs\\python\\python312\\lib\\site-packages (from nltk) (1.4.0)\n",
            "Requirement already satisfied: regex>=2021.8.3 in c:\\users\\achal\\appdata\\local\\programs\\python\\python312\\lib\\site-packages (from nltk) (2024.4.16)\n",
            "Requirement already satisfied: tqdm in c:\\users\\achal\\appdata\\local\\programs\\python\\python312\\lib\\site-packages (from nltk) (4.66.2)\n",
            "Requirement already satisfied: colorama in c:\\users\\achal\\appdata\\local\\programs\\python\\python312\\lib\\site-packages (from click->nltk) (0.4.6)\n"
          ]
        },
        {
          "name": "stderr",
          "output_type": "stream",
          "text": [
            "<frozen runpy>:128: RuntimeWarning: 'nltk.downloader' found in sys.modules after import of package 'nltk', but prior to execution of 'nltk.downloader'; this may result in unpredictable behaviour\n",
            "[nltk_data] Downloading package wordnet to\n",
            "[nltk_data]     C:\\Users\\achal\\AppData\\Roaming\\nltk_data...\n",
            "[nltk_data]   Package wordnet is already up-to-date!\n"
          ]
        }
      ],
      "source": [
        "!pip install nltk\n",
        "!python -m nltk.downloader wordnet"
      ]
    },
    {
      "cell_type": "code",
      "execution_count": 71,
      "metadata": {
        "colab": {
          "base_uri": "https://localhost:8080/",
          "height": 345
        },
        "id": "9l2Da95UM7r5",
        "outputId": "57478eb4-23a5-4f77-906b-b739f59efa95"
      },
      "outputs": [
        {
          "data": {
            "text/html": [
              "<div>\n",
              "<style scoped>\n",
              "    .dataframe tbody tr th:only-of-type {\n",
              "        vertical-align: middle;\n",
              "    }\n",
              "\n",
              "    .dataframe tbody tr th {\n",
              "        vertical-align: top;\n",
              "    }\n",
              "\n",
              "    .dataframe thead th {\n",
              "        text-align: right;\n",
              "    }\n",
              "</style>\n",
              "<table border=\"1\" class=\"dataframe\">\n",
              "  <thead>\n",
              "    <tr style=\"text-align: right;\">\n",
              "      <th></th>\n",
              "      <th>label</th>\n",
              "      <th>comment</th>\n",
              "      <th>com_token</th>\n",
              "      <th>com_remv</th>\n",
              "      <th>com_lemma</th>\n",
              "      <th>com_stem</th>\n",
              "      <th>com_tok_str</th>\n",
              "      <th>com_full</th>\n",
              "    </tr>\n",
              "  </thead>\n",
              "  <tbody>\n",
              "    <tr>\n",
              "      <th>0</th>\n",
              "      <td>-1.0</td>\n",
              "      <td>Everyone knows brand s papers from  But  No on...</td>\n",
              "      <td>[everyone, knows, brand, s, papers, from, but,...</td>\n",
              "      <td>[everyone, knows, brand, papers, one, knows, w...</td>\n",
              "      <td>[everyone, know, brand, paper, one, know, welf...</td>\n",
              "      <td>[everyon, know, brand, paper, one, know, welfa...</td>\n",
              "      <td>everyon, know, brand, paper, one, know, welfar...</td>\n",
              "      <td>everyone knows brand papers one knows welfare ...</td>\n",
              "    </tr>\n",
              "    <tr>\n",
              "      <th>1</th>\n",
              "      <td>0.0</td>\n",
              "      <td>Your paper cut balance is</td>\n",
              "      <td>[your, paper, cut, balance, is]</td>\n",
              "      <td>[paper, cut, balance]</td>\n",
              "      <td>[paper, cut, balance]</td>\n",
              "      <td>[paper, cut, balanc]</td>\n",
              "      <td>paper, cut, balanc</td>\n",
              "      <td>paper cut balance</td>\n",
              "    </tr>\n",
              "    <tr>\n",
              "      <th>2</th>\n",
              "      <td>1.0</td>\n",
              "      <td>OH SHIT WHEN I SAW THIS ON MY FRONT PAGE      ...</td>\n",
              "      <td>[oh, shit, when, i, saw, this, on, my, front, ...</td>\n",
              "      <td>[oh, shit, saw, front, page, love, song]</td>\n",
              "      <td>[oh, shit, saw, front, page, love, song]</td>\n",
              "      <td>[oh, shit, saw, front, page, love, song]</td>\n",
              "      <td>oh, shit, saw, front, page, love, song</td>\n",
              "      <td>oh shit saw front page love song</td>\n",
              "    </tr>\n",
              "    <tr>\n",
              "      <th>3</th>\n",
              "      <td>1.0</td>\n",
              "      <td>Blowing my mind yet again</td>\n",
              "      <td>[blowing, my, mind, yet, again]</td>\n",
              "      <td>[blowing, mind, yet]</td>\n",
              "      <td>[blowing, mind, yet]</td>\n",
              "      <td>[blow, mind, yet]</td>\n",
              "      <td>blow, mind, yet</td>\n",
              "      <td>blowing mind yet</td>\n",
              "    </tr>\n",
              "    <tr>\n",
              "      <th>4</th>\n",
              "      <td>0.0</td>\n",
              "      <td>Should have gone with Dunder Mifflin</td>\n",
              "      <td>[should, have, gone, with, dunder, mifflin]</td>\n",
              "      <td>[gone, dunder, mifflin]</td>\n",
              "      <td>[gone, dunder, mifflin]</td>\n",
              "      <td>[gone, dunder, mifflin]</td>\n",
              "      <td>gone, dunder, mifflin</td>\n",
              "      <td>gone dunder mifflin</td>\n",
              "    </tr>\n",
              "  </tbody>\n",
              "</table>\n",
              "</div>"
            ],
            "text/plain": [
              "   label                                            comment  \\\n",
              "0   -1.0  Everyone knows brand s papers from  But  No on...   \n",
              "1    0.0         Your paper cut balance is                    \n",
              "2    1.0  OH SHIT WHEN I SAW THIS ON MY FRONT PAGE      ...   \n",
              "3    1.0                          Blowing my mind yet again   \n",
              "4    0.0               Should have gone with Dunder Mifflin   \n",
              "\n",
              "                                           com_token  \\\n",
              "0  [everyone, knows, brand, s, papers, from, but,...   \n",
              "1                    [your, paper, cut, balance, is]   \n",
              "2  [oh, shit, when, i, saw, this, on, my, front, ...   \n",
              "3                    [blowing, my, mind, yet, again]   \n",
              "4        [should, have, gone, with, dunder, mifflin]   \n",
              "\n",
              "                                            com_remv  \\\n",
              "0  [everyone, knows, brand, papers, one, knows, w...   \n",
              "1                              [paper, cut, balance]   \n",
              "2           [oh, shit, saw, front, page, love, song]   \n",
              "3                               [blowing, mind, yet]   \n",
              "4                            [gone, dunder, mifflin]   \n",
              "\n",
              "                                           com_lemma  \\\n",
              "0  [everyone, know, brand, paper, one, know, welf...   \n",
              "1                              [paper, cut, balance]   \n",
              "2           [oh, shit, saw, front, page, love, song]   \n",
              "3                               [blowing, mind, yet]   \n",
              "4                            [gone, dunder, mifflin]   \n",
              "\n",
              "                                            com_stem  \\\n",
              "0  [everyon, know, brand, paper, one, know, welfa...   \n",
              "1                               [paper, cut, balanc]   \n",
              "2           [oh, shit, saw, front, page, love, song]   \n",
              "3                                  [blow, mind, yet]   \n",
              "4                            [gone, dunder, mifflin]   \n",
              "\n",
              "                                         com_tok_str  \\\n",
              "0  everyon, know, brand, paper, one, know, welfar...   \n",
              "1                                 paper, cut, balanc   \n",
              "2             oh, shit, saw, front, page, love, song   \n",
              "3                                    blow, mind, yet   \n",
              "4                              gone, dunder, mifflin   \n",
              "\n",
              "                                            com_full  \n",
              "0  everyone knows brand papers one knows welfare ...  \n",
              "1                                  paper cut balance  \n",
              "2                   oh shit saw front page love song  \n",
              "3                                   blowing mind yet  \n",
              "4                                gone dunder mifflin  "
            ]
          },
          "execution_count": 71,
          "metadata": {},
          "output_type": "execute_result"
        }
      ],
      "source": [
        "comments = nlpFunction(comments)\n",
        "comments.head()"
      ]
    },
    {
      "cell_type": "code",
      "execution_count": 72,
      "metadata": {
        "colab": {
          "base_uri": "https://localhost:8080/",
          "height": 206
        },
        "id": "jC2X_0kaMqyh",
        "outputId": "06f7aa62-3f31-4c5b-bd26-5a43a148a660"
      },
      "outputs": [
        {
          "data": {
            "text/html": [
              "<div>\n",
              "<style scoped>\n",
              "    .dataframe tbody tr th:only-of-type {\n",
              "        vertical-align: middle;\n",
              "    }\n",
              "\n",
              "    .dataframe tbody tr th {\n",
              "        vertical-align: top;\n",
              "    }\n",
              "\n",
              "    .dataframe thead th {\n",
              "        text-align: right;\n",
              "    }\n",
              "</style>\n",
              "<table border=\"1\" class=\"dataframe\">\n",
              "  <thead>\n",
              "    <tr style=\"text-align: right;\">\n",
              "      <th></th>\n",
              "      <th>label</th>\n",
              "      <th>com_full</th>\n",
              "    </tr>\n",
              "  </thead>\n",
              "  <tbody>\n",
              "    <tr>\n",
              "      <th>0</th>\n",
              "      <td>-1.0</td>\n",
              "      <td>everyone knows brand papers one knows welfare ...</td>\n",
              "    </tr>\n",
              "    <tr>\n",
              "      <th>1</th>\n",
              "      <td>0.0</td>\n",
              "      <td>paper cut balance</td>\n",
              "    </tr>\n",
              "    <tr>\n",
              "      <th>2</th>\n",
              "      <td>1.0</td>\n",
              "      <td>oh shit saw front page love song</td>\n",
              "    </tr>\n",
              "    <tr>\n",
              "      <th>3</th>\n",
              "      <td>1.0</td>\n",
              "      <td>blowing mind yet</td>\n",
              "    </tr>\n",
              "    <tr>\n",
              "      <th>4</th>\n",
              "      <td>0.0</td>\n",
              "      <td>gone dunder mifflin</td>\n",
              "    </tr>\n",
              "  </tbody>\n",
              "</table>\n",
              "</div>"
            ],
            "text/plain": [
              "   label                                           com_full\n",
              "0   -1.0  everyone knows brand papers one knows welfare ...\n",
              "1    0.0                                  paper cut balance\n",
              "2    1.0                   oh shit saw front page love song\n",
              "3    1.0                                   blowing mind yet\n",
              "4    0.0                                gone dunder mifflin"
            ]
          },
          "execution_count": 72,
          "metadata": {},
          "output_type": "execute_result"
        }
      ],
      "source": [
        "def drop_cols_after_nlp(comments):\n",
        "    comments = comments.drop(columns = ['comment', 'com_token', 'com_remv', 'com_lemma', 'com_stem', 'com_tok_str'], axis = 1)\n",
        "    return comments\n",
        "comments = drop_cols_after_nlp(comments)\n",
        "comments.head()"
      ]
    },
    {
      "cell_type": "code",
      "execution_count": 73,
      "metadata": {
        "colab": {
          "base_uri": "https://localhost:8080/",
          "height": 206
        },
        "id": "t7R28O3BNs58",
        "outputId": "1a78c624-6ecf-4250-b62a-fbfae8559f80"
      },
      "outputs": [
        {
          "data": {
            "text/html": [
              "<div>\n",
              "<style scoped>\n",
              "    .dataframe tbody tr th:only-of-type {\n",
              "        vertical-align: middle;\n",
              "    }\n",
              "\n",
              "    .dataframe tbody tr th {\n",
              "        vertical-align: top;\n",
              "    }\n",
              "\n",
              "    .dataframe thead th {\n",
              "        text-align: right;\n",
              "    }\n",
              "</style>\n",
              "<table border=\"1\" class=\"dataframe\">\n",
              "  <thead>\n",
              "    <tr style=\"text-align: right;\">\n",
              "      <th></th>\n",
              "      <th>label</th>\n",
              "      <th>comment</th>\n",
              "    </tr>\n",
              "  </thead>\n",
              "  <tbody>\n",
              "    <tr>\n",
              "      <th>0</th>\n",
              "      <td>-1.0</td>\n",
              "      <td>everyone knows brand papers one knows welfare ...</td>\n",
              "    </tr>\n",
              "    <tr>\n",
              "      <th>1</th>\n",
              "      <td>0.0</td>\n",
              "      <td>paper cut balance</td>\n",
              "    </tr>\n",
              "    <tr>\n",
              "      <th>2</th>\n",
              "      <td>1.0</td>\n",
              "      <td>oh shit saw front page love song</td>\n",
              "    </tr>\n",
              "    <tr>\n",
              "      <th>3</th>\n",
              "      <td>1.0</td>\n",
              "      <td>blowing mind yet</td>\n",
              "    </tr>\n",
              "    <tr>\n",
              "      <th>4</th>\n",
              "      <td>0.0</td>\n",
              "      <td>gone dunder mifflin</td>\n",
              "    </tr>\n",
              "  </tbody>\n",
              "</table>\n",
              "</div>"
            ],
            "text/plain": [
              "   label                                            comment\n",
              "0   -1.0  everyone knows brand papers one knows welfare ...\n",
              "1    0.0                                  paper cut balance\n",
              "2    1.0                   oh shit saw front page love song\n",
              "3    1.0                                   blowing mind yet\n",
              "4    0.0                                gone dunder mifflin"
            ]
          },
          "execution_count": 73,
          "metadata": {},
          "output_type": "execute_result"
        }
      ],
      "source": [
        "comments.rename(columns = {'com_full': 'comment'}, inplace=True)\n",
        "comments.head()"
      ]
    },
    {
      "cell_type": "code",
      "execution_count": 74,
      "metadata": {
        "id": "2v2hNzIHNtBY"
      },
      "outputs": [],
      "source": [
        "def remove_missing_vals(comments):\n",
        "    comments['comment'] = comments['comment'].str.strip()\n",
        "    comments = comments[comments.comment != 'nan'] # remove nan values from data\n",
        "    comments = comments[comments.comment != '']\n",
        "\n",
        "remove_missing_vals(comments)"
      ]
    },
    {
      "cell_type": "code",
      "execution_count": 75,
      "metadata": {
        "colab": {
          "base_uri": "https://localhost:8080/",
          "height": 206
        },
        "id": "m0TVBnITNtDs",
        "outputId": "4047820e-a51f-463a-e323-4cc8579bcf91"
      },
      "outputs": [
        {
          "data": {
            "text/html": [
              "<div>\n",
              "<style scoped>\n",
              "    .dataframe tbody tr th:only-of-type {\n",
              "        vertical-align: middle;\n",
              "    }\n",
              "\n",
              "    .dataframe tbody tr th {\n",
              "        vertical-align: top;\n",
              "    }\n",
              "\n",
              "    .dataframe thead th {\n",
              "        text-align: right;\n",
              "    }\n",
              "</style>\n",
              "<table border=\"1\" class=\"dataframe\">\n",
              "  <thead>\n",
              "    <tr style=\"text-align: right;\">\n",
              "      <th></th>\n",
              "      <th>label</th>\n",
              "      <th>comment</th>\n",
              "    </tr>\n",
              "  </thead>\n",
              "  <tbody>\n",
              "    <tr>\n",
              "      <th>0</th>\n",
              "      <td>-1.0</td>\n",
              "      <td>everyone knows brand papers one knows welfare ...</td>\n",
              "    </tr>\n",
              "    <tr>\n",
              "      <th>1</th>\n",
              "      <td>0.0</td>\n",
              "      <td>paper cut balance</td>\n",
              "    </tr>\n",
              "    <tr>\n",
              "      <th>2</th>\n",
              "      <td>1.0</td>\n",
              "      <td>oh shit saw front page love song</td>\n",
              "    </tr>\n",
              "    <tr>\n",
              "      <th>3</th>\n",
              "      <td>1.0</td>\n",
              "      <td>blowing mind yet</td>\n",
              "    </tr>\n",
              "    <tr>\n",
              "      <th>4</th>\n",
              "      <td>0.0</td>\n",
              "      <td>gone dunder mifflin</td>\n",
              "    </tr>\n",
              "  </tbody>\n",
              "</table>\n",
              "</div>"
            ],
            "text/plain": [
              "   label                                            comment\n",
              "0   -1.0  everyone knows brand papers one knows welfare ...\n",
              "1    0.0                                  paper cut balance\n",
              "2    1.0                   oh shit saw front page love song\n",
              "3    1.0                                   blowing mind yet\n",
              "4    0.0                                gone dunder mifflin"
            ]
          },
          "execution_count": 75,
          "metadata": {},
          "output_type": "execute_result"
        }
      ],
      "source": [
        "comments.head()"
      ]
    },
    {
      "cell_type": "code",
      "execution_count": 76,
      "metadata": {
        "colab": {
          "base_uri": "https://localhost:8080/"
        },
        "id": "1i4CLSfDN5pB",
        "outputId": "5fda3c1c-71e7-4eee-e833-68f57ec7cab0"
      },
      "outputs": [
        {
          "data": {
            "text/plain": [
              "2355"
            ]
          },
          "execution_count": 76,
          "metadata": {},
          "output_type": "execute_result"
        }
      ],
      "source": [
        "comments['label'].isna().sum()"
      ]
    },
    {
      "cell_type": "code",
      "execution_count": 77,
      "metadata": {
        "colab": {
          "base_uri": "https://localhost:8080/"
        },
        "id": "70Yv0tR6N5sO",
        "outputId": "1658b550-68d0-4187-891b-4952330a1c9d"
      },
      "outputs": [
        {
          "data": {
            "text/plain": [
              "0"
            ]
          },
          "execution_count": 77,
          "metadata": {},
          "output_type": "execute_result"
        }
      ],
      "source": [
        "comments = comments[comments['label'].notna()]\n",
        "comments['label'].isna().sum()"
      ]
    },
    {
      "cell_type": "code",
      "execution_count": 78,
      "metadata": {
        "colab": {
          "base_uri": "https://localhost:8080/"
        },
        "id": "J2CNizvSN5ur",
        "outputId": "de480c39-11f9-4168-8788-72251b947b30"
      },
      "outputs": [
        {
          "data": {
            "text/plain": [
              "14830"
            ]
          },
          "execution_count": 78,
          "metadata": {},
          "output_type": "execute_result"
        }
      ],
      "source": [
        "len(comments)"
      ]
    },
    {
      "cell_type": "code",
      "execution_count": 79,
      "metadata": {
        "id": "GYlu0w9TN5xn"
      },
      "outputs": [],
      "source": [
        "X = comments['comment']\n",
        "y = comments.label"
      ]
    },
    {
      "cell_type": "code",
      "execution_count": 80,
      "metadata": {
        "id": "OG2-e_U7N5z7"
      },
      "outputs": [],
      "source": [
        "# split X and y into training and testing sets\n",
        "from sklearn.model_selection import train_test_split\n",
        "X_train, X_test, y_train, y_test = train_test_split(X, y, random_state=53, test_size=0.25)"
      ]
    },
    {
      "cell_type": "code",
      "execution_count": 81,
      "metadata": {
        "id": "DN5P86ScNtGQ"
      },
      "outputs": [],
      "source": [
        "# Initialize count vectorizer\n",
        "count_vectorizer = CountVectorizer(stop_words='english',\n",
        "                                   min_df=0.05, max_df=0.9)\n",
        "\n",
        "# Create count train and test variables\n",
        "count_train = count_vectorizer.fit_transform(X_train)\n",
        "count_test = count_vectorizer.transform(X_test)\n",
        "\n",
        "# Initialize tfidf vectorizer\n",
        "tfidf_vectorizer = TfidfVectorizer(stop_words='english',\n",
        "                                   min_df=0.05, max_df=0.9)\n",
        "\n",
        "# Create tfidf train and test variables\n",
        "tfidf_train = tfidf_vectorizer.fit_transform(X_train)\n",
        "tfidf_test = tfidf_vectorizer.transform(X_test)"
      ]
    },
    {
      "cell_type": "code",
      "execution_count": 82,
      "metadata": {
        "id": "UWXlH49kOM_m"
      },
      "outputs": [],
      "source": [
        "# Set seed for reproducibility\n",
        "import random; random.seed(5)\n",
        "\n",
        "# Import all we need from sklearn\n",
        "from sklearn.feature_extraction.text import CountVectorizer,TfidfVectorizer\n",
        "from sklearn.model_selection import train_test_split\n",
        "from sklearn.naive_bayes import MultinomialNB\n",
        "from sklearn.svm import LinearSVC\n",
        "from sklearn import metrics"
      ]
    },
    {
      "cell_type": "code",
      "execution_count": 83,
      "metadata": {
        "colab": {
          "base_uri": "https://localhost:8080/"
        },
        "id": "f4oBdiTHONCX",
        "outputId": "e490e5b9-f8e3-4f61-9863-6a5442ed4968"
      },
      "outputs": [
        {
          "name": "stdout",
          "output_type": "stream",
          "text": [
            "NaiveBayes Tfidf Score:  0.7909924487594391\n",
            "NaiveBayes Count Score:  0.7831715210355987\n"
          ]
        }
      ],
      "source": [
        "# Create a MulitnomialNB model\n",
        "tfidf_nb = MultinomialNB()\n",
        "tfidf_nb.fit(tfidf_train,y_train)\n",
        "# Run predict on your TF-IDF test data to get your predictions\n",
        "tfidf_nb_pred = tfidf_nb.predict(tfidf_test)\n",
        "\n",
        "# Calculate the accuracy of your predictions\n",
        "tfidf_nb_score = metrics.accuracy_score(y_test,tfidf_nb_pred)\n",
        "\n",
        "# Create a MulitnomialNB model\n",
        "count_nb = MultinomialNB()\n",
        "count_nb.fit(count_train,y_train)\n",
        "\n",
        "# Run predict on your count test data to get your predictions\n",
        "count_nb_pred = count_nb.predict(count_test)\n",
        "\n",
        "# Calculate the accuracy of your predictions\n",
        "count_nb_score = metrics.accuracy_score(count_nb_pred,y_test)\n",
        "\n",
        "print('NaiveBayes Tfidf Score: ', tfidf_nb_score)\n",
        "print('NaiveBayes Count Score: ', count_nb_score)"
      ]
    },
    {
      "cell_type": "code",
      "execution_count": 84,
      "metadata": {
        "colab": {
          "base_uri": "https://localhost:8080/"
        },
        "id": "4PME3A7QONEz",
        "outputId": "ab7637f4-e172-419c-ad7e-54971646c169"
      },
      "outputs": [
        {
          "name": "stdout",
          "output_type": "stream",
          "text": [
            "Logistic Regression accuracy is (for Tfidf) : 0.7880258899676376\n"
          ]
        }
      ],
      "source": [
        "from sklearn.linear_model import LogisticRegression\n",
        "lr_model = LogisticRegression()\n",
        "lr_model.fit(tfidf_train,y_train)\n",
        "accuracy_lr = lr_model.score(tfidf_test,y_test)\n",
        "print(\"Logistic Regression accuracy is (for Tfidf) :\",accuracy_lr)"
      ]
    },
    {
      "cell_type": "code",
      "execution_count": 85,
      "metadata": {
        "colab": {
          "base_uri": "https://localhost:8080/"
        },
        "id": "uFu-ZGx0OXf6",
        "outputId": "68f83fef-1afa-4725-a867-311be9cc111f"
      },
      "outputs": [
        {
          "name": "stdout",
          "output_type": "stream",
          "text": [
            "Logistic Regression accuracy is (for Count) : 0.7877562028047465\n"
          ]
        }
      ],
      "source": [
        "lr_model = LogisticRegression()\n",
        "lr_model.fit(count_train,y_train)\n",
        "accuracy_lr = lr_model.score(count_test,y_test)\n",
        "print(\"Logistic Regression accuracy is (for Count) :\",accuracy_lr)"
      ]
    },
    {
      "cell_type": "code",
      "execution_count": 86,
      "metadata": {
        "colab": {
          "base_uri": "https://localhost:8080/"
        },
        "id": "FYkKc01mOXi1",
        "outputId": "1cb64b90-642a-4ce1-fffb-ba19e5674cc7"
      },
      "outputs": [
        {
          "name": "stdout",
          "output_type": "stream",
          "text": [
            "LinearSVC Score (for tfidf):   0.792\n"
          ]
        }
      ],
      "source": [
        "# Create a SVM model\n",
        "from sklearn import svm\n",
        "tfidf_svc = svm.SVC(kernel='linear', C=1)\n",
        "\n",
        "tfidf_svc.fit(tfidf_train,y_train)\n",
        "# Run predict on your tfidf test data to get your predictions\n",
        "tfidf_svc_pred = tfidf_svc.predict(tfidf_test)\n",
        "\n",
        "# Calculate your accuracy using the metrics module\n",
        "tfidf_svc_score = metrics.accuracy_score(y_test,tfidf_svc_pred)\n",
        "\n",
        "print(\"LinearSVC Score (for tfidf):   %0.3f\" % tfidf_svc_score)"
      ]
    },
    {
      "cell_type": "code",
      "execution_count": 87,
      "metadata": {
        "colab": {
          "base_uri": "https://localhost:8080/"
        },
        "id": "FdnRCSo7OXle",
        "outputId": "c9a49aef-c2ee-4a6c-96e6-b279f8539f43"
      },
      "outputs": [
        {
          "name": "stdout",
          "output_type": "stream",
          "text": [
            "LinearSVC Score (for Count):   0.792\n"
          ]
        }
      ],
      "source": [
        "count_svc = svm.SVC(kernel='linear', C=1)\n",
        "\n",
        "count_svc.fit(count_train,y_train)\n",
        "# Run predict on your count test data to get your predictions\n",
        "count_svc_pred = count_svc.predict(count_test)\n",
        "\n",
        "# Calculate your accuracy using the metrics module\n",
        "count_svc_score = metrics.accuracy_score(y_test,count_svc_pred)\n",
        "\n",
        "print(\"LinearSVC Score (for Count):   %0.3f\" % tfidf_svc_score)"
      ]
    },
    {
      "cell_type": "code",
      "execution_count": 88,
      "metadata": {
        "colab": {
          "base_uri": "https://localhost:8080/"
        },
        "id": "-qnRxPuWOXoE",
        "outputId": "84183bee-5210-40c6-b789-0be711e0c1db"
      },
      "outputs": [
        {
          "name": "stdout",
          "output_type": "stream",
          "text": [
            "Decision Tree accuracy is (for Tfidf): 0.7982740021574973\n"
          ]
        }
      ],
      "source": [
        "from sklearn.tree import DecisionTreeClassifier\n",
        "dt_model = DecisionTreeClassifier()\n",
        "dt_model.fit(tfidf_train,y_train)\n",
        "accuracy_dt = dt_model.score(tfidf_test,y_test)\n",
        "print(\"Decision Tree accuracy is (for Tfidf):\",accuracy_dt)"
      ]
    },
    {
      "cell_type": "code",
      "execution_count": 89,
      "metadata": {
        "colab": {
          "base_uri": "https://localhost:8080/"
        },
        "id": "jLIT5RYNOXq0",
        "outputId": "38949df4-88d6-4a45-ef1f-b52638cb1d8a"
      },
      "outputs": [
        {
          "name": "stdout",
          "output_type": "stream",
          "text": [
            "Decision Tree accuracy is (for Count): 0.7977346278317152\n"
          ]
        }
      ],
      "source": [
        "dt_model = DecisionTreeClassifier()\n",
        "dt_model.fit(count_train,y_train)\n",
        "accuracy_dt = dt_model.score(count_test,y_test)\n",
        "print(\"Decision Tree accuracy is (for Count):\",accuracy_dt)"
      ]
    },
    {
      "cell_type": "code",
      "execution_count": 90,
      "metadata": {
        "colab": {
          "base_uri": "https://localhost:8080/"
        },
        "id": "6o_xNGbvOzZW",
        "outputId": "d2056a26-cc18-4af8-e3f2-60891d00e227"
      },
      "outputs": [
        {
          "name": "stdout",
          "output_type": "stream",
          "text": [
            "Random Forest accuracy for 5 trees is (Tfidf): 0.7977346278317152\n"
          ]
        }
      ],
      "source": [
        "from sklearn.ensemble import RandomForestClassifier\n",
        "rf_model_initial = RandomForestClassifier(n_estimators = 5, random_state = 1)\n",
        "rf_model_initial.fit(tfidf_train,y_train)\n",
        "print(\"Random Forest accuracy for 5 trees is (Tfidf):\",rf_model_initial.score(tfidf_test,y_test))\n"
      ]
    },
    {
      "cell_type": "code",
      "execution_count": 91,
      "metadata": {
        "colab": {
          "base_uri": "https://localhost:8080/"
        },
        "id": "PT4RbPMcOzcQ",
        "outputId": "ff46255f-bba3-4841-dc5a-4bc0d1402f32"
      },
      "outputs": [
        {
          "name": "stdout",
          "output_type": "stream",
          "text": [
            "Random Forest accuracy for 5 trees is (Count): 0.7974649406688241\n"
          ]
        }
      ],
      "source": [
        "rf_model_initial = RandomForestClassifier(n_estimators = 5, random_state = 1)\n",
        "rf_model_initial.fit(count_train,y_train)\n",
        "print(\"Random Forest accuracy for 5 trees is (Count):\",rf_model_initial.score(count_test,y_test))"
      ]
    },
    {
      "cell_type": "code",
      "execution_count": 92,
      "metadata": {
        "colab": {
          "base_uri": "https://localhost:8080/"
        },
        "id": "8JV9h8xaPTfp",
        "outputId": "e168c5d5-9cc8-4401-dbb3-6292f71fb759"
      },
      "outputs": [
        {
          "name": "stdout",
          "output_type": "stream",
          "text": [
            "Requirement already satisfied: extractor in c:\\users\\achal\\appdata\\local\\programs\\python\\python312\\lib\\site-packages (0.5)\n"
          ]
        }
      ],
      "source": [
        "!pip install extractor\n",
        "import os\n",
        "\n",
        "if not os.path.isfile('extractor.py'):\n",
        "    raise FileNotFoundError(\"The file 'extractor.py' does not exist.\")"
      ]
    },
    {
      "cell_type": "code",
      "execution_count": 93,
      "metadata": {
        "colab": {
          "base_uri": "https://localhost:8080/"
        },
        "id": "syoQrPHQQYBZ",
        "outputId": "35711bbe-f713-40c6-9a94-8f6fa2f75b07"
      },
      "outputs": [
        {
          "name": "stdout",
          "output_type": "stream",
          "text": [
            "Requirement already satisfied: youtube_comment_downloader in c:\\users\\achal\\appdata\\local\\programs\\python\\python312\\lib\\site-packages (0.1.76)\n",
            "Requirement already satisfied: dateparser in c:\\users\\achal\\appdata\\local\\programs\\python\\python312\\lib\\site-packages (from youtube_comment_downloader) (1.2.0)\n",
            "Requirement already satisfied: requests in c:\\users\\achal\\appdata\\local\\programs\\python\\python312\\lib\\site-packages (from youtube_comment_downloader) (2.31.0)\n",
            "Requirement already satisfied: python-dateutil in c:\\users\\achal\\appdata\\local\\programs\\python\\python312\\lib\\site-packages (from dateparser->youtube_comment_downloader) (2.9.0.post0)\n",
            "Requirement already satisfied: pytz in c:\\users\\achal\\appdata\\local\\programs\\python\\python312\\lib\\site-packages (from dateparser->youtube_comment_downloader) (2024.1)\n",
            "Requirement already satisfied: regex!=2019.02.19,!=2021.8.27 in c:\\users\\achal\\appdata\\local\\programs\\python\\python312\\lib\\site-packages (from dateparser->youtube_comment_downloader) (2024.4.16)\n",
            "Requirement already satisfied: tzlocal in c:\\users\\achal\\appdata\\local\\programs\\python\\python312\\lib\\site-packages (from dateparser->youtube_comment_downloader) (5.2)\n",
            "Requirement already satisfied: charset-normalizer<4,>=2 in c:\\users\\achal\\appdata\\local\\programs\\python\\python312\\lib\\site-packages (from requests->youtube_comment_downloader) (3.3.2)\n",
            "Requirement already satisfied: idna<4,>=2.5 in c:\\users\\achal\\appdata\\local\\programs\\python\\python312\\lib\\site-packages (from requests->youtube_comment_downloader) (3.7)\n",
            "Requirement already satisfied: urllib3<3,>=1.21.1 in c:\\users\\achal\\appdata\\local\\programs\\python\\python312\\lib\\site-packages (from requests->youtube_comment_downloader) (2.2.1)\n",
            "Requirement already satisfied: certifi>=2017.4.17 in c:\\users\\achal\\appdata\\local\\programs\\python\\python312\\lib\\site-packages (from requests->youtube_comment_downloader) (2024.2.2)\n",
            "Requirement already satisfied: six>=1.5 in c:\\users\\achal\\appdata\\local\\programs\\python\\python312\\lib\\site-packages (from python-dateutil->dateparser->youtube_comment_downloader) (1.16.0)\n",
            "Requirement already satisfied: tzdata in c:\\users\\achal\\appdata\\local\\programs\\python\\python312\\lib\\site-packages (from tzlocal->dateparser->youtube_comment_downloader) (2024.1)\n"
          ]
        }
      ],
      "source": [
        "!pip install youtube_comment_downloader"
      ]
    },
    {
      "cell_type": "code",
      "execution_count": 113,
      "metadata": {
        "colab": {
          "base_uri": "https://localhost:8080/",
          "height": 206
        },
        "id": "t5xO_8qMOzhR",
        "outputId": "b5f78804-7432-487b-ee04-5929486232de"
      },
      "outputs": [
        {
          "data": {
            "text/html": [
              "<div>\n",
              "<style scoped>\n",
              "    .dataframe tbody tr th:only-of-type {\n",
              "        vertical-align: middle;\n",
              "    }\n",
              "\n",
              "    .dataframe tbody tr th {\n",
              "        vertical-align: top;\n",
              "    }\n",
              "\n",
              "    .dataframe thead th {\n",
              "        text-align: right;\n",
              "    }\n",
              "</style>\n",
              "<table border=\"1\" class=\"dataframe\">\n",
              "  <thead>\n",
              "    <tr style=\"text-align: right;\">\n",
              "      <th></th>\n",
              "      <th>comment</th>\n",
              "    </tr>\n",
              "  </thead>\n",
              "  <tbody>\n",
              "    <tr>\n",
              "      <th>0</th>\n",
              "      <td>What do YOU think to the current state of Fold...</td>\n",
              "    </tr>\n",
              "    <tr>\n",
              "      <th>1</th>\n",
              "      <td>Well, finally someone who can compete with Sam...</td>\n",
              "    </tr>\n",
              "    <tr>\n",
              "      <th>2</th>\n",
              "      <td>I wanna see them attempt something like the Z-...</td>\n",
              "    </tr>\n",
              "    <tr>\n",
              "      <th>3</th>\n",
              "      <td>4:57 \"And then actually coming with the charge...</td>\n",
              "    </tr>\n",
              "    <tr>\n",
              "      <th>4</th>\n",
              "      <td>Personally, for me this was one of, if not the...</td>\n",
              "    </tr>\n",
              "  </tbody>\n",
              "</table>\n",
              "</div>"
            ],
            "text/plain": [
              "                                             comment\n",
              "0  What do YOU think to the current state of Fold...\n",
              "1  Well, finally someone who can compete with Sam...\n",
              "2  I wanna see them attempt something like the Z-...\n",
              "3  4:57 \"And then actually coming with the charge...\n",
              "4  Personally, for me this was one of, if not the..."
            ]
          },
          "execution_count": 113,
          "metadata": {},
          "output_type": "execute_result"
        }
      ],
      "source": [
        "prediction_comments = pd.read_csv('Comments.csv', delimiter=\",\", encoding='utf-8', engine='python')\n",
        "prediction_comments = prediction_comments.iloc[:,:1]\n",
        "prediction_comments.columns=['comment']\n",
        "prediction_comments.head()"
      ]
    },
    {
      "cell_type": "code",
      "execution_count": 95,
      "metadata": {
        "colab": {
          "base_uri": "https://localhost:8080/",
          "height": 206
        },
        "id": "DMNInGj_Ozjp",
        "outputId": "18a00f52-50b4-41d5-863a-9a431f74a673"
      },
      "outputs": [
        {
          "data": {
            "text/html": [
              "<div>\n",
              "<style scoped>\n",
              "    .dataframe tbody tr th:only-of-type {\n",
              "        vertical-align: middle;\n",
              "    }\n",
              "\n",
              "    .dataframe tbody tr th {\n",
              "        vertical-align: top;\n",
              "    }\n",
              "\n",
              "    .dataframe thead th {\n",
              "        text-align: right;\n",
              "    }\n",
              "</style>\n",
              "<table border=\"1\" class=\"dataframe\">\n",
              "  <thead>\n",
              "    <tr style=\"text-align: right;\">\n",
              "      <th></th>\n",
              "      <th>comment</th>\n",
              "    </tr>\n",
              "  </thead>\n",
              "  <tbody>\n",
              "    <tr>\n",
              "      <th>0</th>\n",
              "      <td>What do YOU think to the current state of Fold...</td>\n",
              "    </tr>\n",
              "    <tr>\n",
              "      <th>1</th>\n",
              "      <td>Well, finally someone who can compete with Sam...</td>\n",
              "    </tr>\n",
              "    <tr>\n",
              "      <th>2</th>\n",
              "      <td>I wanna see them attempt something like the Z-...</td>\n",
              "    </tr>\n",
              "    <tr>\n",
              "      <th>3</th>\n",
              "      <td>4:57 \"And then actually coming with the charge...</td>\n",
              "    </tr>\n",
              "    <tr>\n",
              "      <th>4</th>\n",
              "      <td>Personally, for me this was one of, if not the...</td>\n",
              "    </tr>\n",
              "  </tbody>\n",
              "</table>\n",
              "</div>"
            ],
            "text/plain": [
              "                                             comment\n",
              "0  What do YOU think to the current state of Fold...\n",
              "1  Well, finally someone who can compete with Sam...\n",
              "2  I wanna see them attempt something like the Z-...\n",
              "3  4:57 \"And then actually coming with the charge...\n",
              "4  Personally, for me this was one of, if not the..."
            ]
          },
          "execution_count": 95,
          "metadata": {},
          "output_type": "execute_result"
        }
      ],
      "source": [
        "# Lets use SVC to predict on our youtube video comments\n",
        "prediction_comments.head()"
      ]
    },
    {
      "cell_type": "code",
      "execution_count": 96,
      "metadata": {
        "colab": {
          "base_uri": "https://localhost:8080/"
        },
        "id": "7hM8-Jo7RzjX",
        "outputId": "d66bfd5d-cda2-4af3-dd23-98030ceba279"
      },
      "outputs": [
        {
          "data": {
            "text/plain": [
              "1001"
            ]
          },
          "execution_count": 96,
          "metadata": {},
          "output_type": "execute_result"
        }
      ],
      "source": [
        "len(prediction_comments['comment'])"
      ]
    },
    {
      "cell_type": "code",
      "execution_count": 97,
      "metadata": {
        "colab": {
          "base_uri": "https://localhost:8080/",
          "height": 206
        },
        "id": "D8QafIgKRzmH",
        "outputId": "2e03ca12-4654-436e-a362-b11ab28b0eaa"
      },
      "outputs": [
        {
          "data": {
            "text/html": [
              "<div>\n",
              "<style scoped>\n",
              "    .dataframe tbody tr th:only-of-type {\n",
              "        vertical-align: middle;\n",
              "    }\n",
              "\n",
              "    .dataframe tbody tr th {\n",
              "        vertical-align: top;\n",
              "    }\n",
              "\n",
              "    .dataframe thead th {\n",
              "        text-align: right;\n",
              "    }\n",
              "</style>\n",
              "<table border=\"1\" class=\"dataframe\">\n",
              "  <thead>\n",
              "    <tr style=\"text-align: right;\">\n",
              "      <th></th>\n",
              "      <th>comment</th>\n",
              "    </tr>\n",
              "  </thead>\n",
              "  <tbody>\n",
              "    <tr>\n",
              "      <th>0</th>\n",
              "      <td>think current state foldable phones check tesl...</td>\n",
              "    </tr>\n",
              "    <tr>\n",
              "      <th>1</th>\n",
              "      <td>well finally someone compete samsung market co...</td>\n",
              "    </tr>\n",
              "    <tr>\n",
              "      <th>2</th>\n",
              "      <td>wanna see attempt something like z flip someth...</td>\n",
              "    </tr>\n",
              "    <tr>\n",
              "      <th>3</th>\n",
              "      <td>actually coming charger respect xiaomi getting...</td>\n",
              "    </tr>\n",
              "    <tr>\n",
              "      <th>4</th>\n",
              "      <td>personally one best video ever made simple alw...</td>\n",
              "    </tr>\n",
              "  </tbody>\n",
              "</table>\n",
              "</div>"
            ],
            "text/plain": [
              "                                             comment\n",
              "0  think current state foldable phones check tesl...\n",
              "1  well finally someone compete samsung market co...\n",
              "2  wanna see attempt something like z flip someth...\n",
              "3  actually coming charger respect xiaomi getting...\n",
              "4  personally one best video ever made simple alw..."
            ]
          },
          "execution_count": 97,
          "metadata": {},
          "output_type": "execute_result"
        }
      ],
      "source": [
        "convert_to_string(prediction_comments)\n",
        "cleanerFn(prediction_comments)\n",
        "prediction_comments = nlpFunction(prediction_comments)\n",
        "prediction_comments = drop_cols_after_nlp(prediction_comments)\n",
        "prediction_comments.rename(columns = {'com_full': 'comment'}, inplace=True)\n",
        "remove_missing_vals(prediction_comments)\n",
        "prediction_comments.head()"
      ]
    },
    {
      "cell_type": "code",
      "execution_count": 108,
      "metadata": {
        "id": "3cZUOLpyRzpJ"
      },
      "outputs": [],
      "source": [
        "tfidf_pred = tfidf_vectorizer.transform(prediction_comments['comment'])\n",
        "tfidf_svc_pred = tfidf_svc.predict(tfidf_pred)"
      ]
    },
    {
      "cell_type": "code",
      "execution_count": 109,
      "metadata": {
        "id": "-7CWqa5rONG3"
      },
      "outputs": [],
      "source": [
        "neutral = (tfidf_svc_pred == 0.0).sum()\n",
        "positive = (tfidf_svc_pred == 1.0).sum()\n",
        "negative = (tfidf_svc_pred < 0).sum()\n",
        "# neutral = (tfidf_svc_pred == 0.0)\n",
        "# positive = (tfidf_svc_pred == 1.0)\n",
        "# negative = (tfidf_svc_pred < 0)"
      ]
    },
    {
      "cell_type": "code",
      "execution_count": 110,
      "metadata": {
        "colab": {
          "base_uri": "https://localhost:8080/"
        },
        "id": "JmNMuFuZSDXA",
        "outputId": "f71d54eb-f13a-4ce8-8979-0f9ee2233fd4"
      },
      "outputs": [
        {
          "name": "stdout",
          "output_type": "stream",
          "text": [
            "Neutral Comments : 833 | Positive Comments : 161 | Negative Comments :  7\n"
          ]
        }
      ],
      "source": [
        "print(f'Neutral Comments : {neutral} | Positive Comments : {positive} | Negative Comments :  {negative}')"
      ]
    },
    {
      "cell_type": "code",
      "execution_count": 111,
      "metadata": {
        "colab": {
          "base_uri": "https://localhost:8080/",
          "height": 430
        },
        "id": "xjgEzDPzpB57",
        "outputId": "2ca0ac46-350f-4ec4-b286-041e10375bb2"
      },
      "outputs": [
        {
          "data": {
            "image/png": "[encoded data removed]",
            "text/plain": [
              "<Figure size 640x480 with 1 Axes>"
            ]
          },
          "metadata": {},
          "output_type": "display_data"
        }
      ],
      "source": [
        "import matplotlib.pyplot as plt\n",
        "\n",
        "# Define the x-axis values\n",
        "x = ['neutral', 'positive', 'negative']\n",
        "\n",
        "# Plot the bar chart\n",
        "plt.bar(x, [neutral, positive, negative], width=0.3)\n",
        "\n",
        "# Show the plot\n",
        "plt.show()"
      ]
    },
    {
      "cell_type": "code",
      "execution_count": 114,
      "metadata": {
        "colab": {
          "base_uri": "https://localhost:8080/"
        },
        "id": "F5il6h-_SDgU",
        "outputId": "99f37d73-fa14-424e-b3b5-5fb46bc8a977"
      },
      "outputs": [
        {
          "name": "stdout",
          "output_type": "stream",
          "text": [
            "Good video\n"
          ]
        }
      ],
      "source": [
        "print(\"Good video\" if positive > negative else \"Bad video\")"
      ]
    },
    {
      "cell_type": "code",
      "execution_count": 115,
      "metadata": {},
      "outputs": [],
      "source": [
        "with open('model.pkl', 'wb') as file:\n",
        "    pickle.dump(tfidf_svc, file)\n",
        "with open('tfidf_vectorizer.pkl', 'wb') as file:\n",
        "    pickle.dump(tfidf_vectorizer, file)"
      ]
    }
  ],
  "metadata": {
    "colab": {
      "provenance": []
    },
    "kernelspec": {
      "display_name": "Python 3",
      "name": "python3"
    },
    "language_info": {
      "codemirror_mode": {
        "name": "ipython",
        "version": 3
      },
      "file_extension": ".py",
      "mimetype": "text/x-python",
      "name": "python",
      "nbconvert_exporter": "python",
      "pygments_lexer": "ipython3",
      "version": "3.12.1"
    }
  },
  "nbformat": 4,
  "nbformat_minor": 0
}
